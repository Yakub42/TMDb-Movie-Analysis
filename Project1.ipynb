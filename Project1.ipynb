{
 "cells": [
  {
   "cell_type": "markdown",
   "id": "977d1b67",
   "metadata": {},
   "source": [
    "# INVESTIGATION OF TMDb MOVIES DATASET\n",
    "\n",
    "## TABLE OF CONTENTS\n",
    "<ul>\n",
    "<li><a href=\"#intro\">Introduction</a></li>\n",
    "<li><a href=\"#wrangling\">Data Wrangling</a></li>\n",
    "<li><a href=\"#eda\">Exploratory Data Analysis</a></li>\n",
    "<li><a href=\"#conclusions\">Conclusions</a></li>\n",
    "</ul>"
   ]
  },
  {
   "cell_type": "markdown",
   "id": "3345f24f",
   "metadata": {},
   "source": [
    "<a id='intro'></a>\n",
    "## Introduction\n",
    "The TMDb dataset contains information on about 10,000 movies collected from The Movie Database (TMDb), including user ratings and revenue. Some other columns include cast, director, popularity, runtime, etc.\n",
    "\n",
    "## Questions\n",
    "Some of the intriguing questions we would like to find out from this dataset include:\n",
    "<li> What movie costs more to build, action or adventure?\n",
    "<li> Do movies with homepages gain more popularity than movies without?\n",
    "<li> What year and what decade had the best movie (vote_average) on average?\n",
    "<li> Which director gets the best ratings?\n",
    "<li> Does runtime affect ratings?\n",
    "<li> Is there a correlation between rating and revenue generated?\n",
    "<li> Is there a correlation between popularity and revenue generated?\n",
    "<li> Does the number of production companies tend to increase popularity and budget?"
   ]
  },
  {
   "cell_type": "code",
   "execution_count": 1,
   "id": "8dc98928",
   "metadata": {},
   "outputs": [],
   "source": [
    "#importing necessary packages\n",
    "import pandas as pd\n",
    "import numpy as np\n",
    "import matplotlib.pyplot as plt\n",
    "import seaborn as sns\n",
    "%matplotlib inline"
   ]
  },
  {
   "cell_type": "markdown",
   "id": "e1eb732d",
   "metadata": {},
   "source": [
    "<a id='wrangling'></a>\n",
    "## Data Wrangling\n",
    "\n",
    "\n",
    "### General Properties"
   ]
  },
  {
   "cell_type": "code",
   "execution_count": 2,
   "id": "77e4140d",
   "metadata": {},
   "outputs": [
    {
     "data": {
      "text/html": [
       "<div>\n",
       "<style scoped>\n",
       "    .dataframe tbody tr th:only-of-type {\n",
       "        vertical-align: middle;\n",
       "    }\n",
       "\n",
       "    .dataframe tbody tr th {\n",
       "        vertical-align: top;\n",
       "    }\n",
       "\n",
       "    .dataframe thead th {\n",
       "        text-align: right;\n",
       "    }\n",
       "</style>\n",
       "<table border=\"1\" class=\"dataframe\">\n",
       "  <thead>\n",
       "    <tr style=\"text-align: right;\">\n",
       "      <th></th>\n",
       "      <th>id</th>\n",
       "      <th>imdb_id</th>\n",
       "      <th>popularity</th>\n",
       "      <th>budget</th>\n",
       "      <th>revenue</th>\n",
       "      <th>original_title</th>\n",
       "      <th>cast</th>\n",
       "      <th>homepage</th>\n",
       "      <th>director</th>\n",
       "      <th>tagline</th>\n",
       "      <th>...</th>\n",
       "      <th>overview</th>\n",
       "      <th>runtime</th>\n",
       "      <th>genres</th>\n",
       "      <th>production_companies</th>\n",
       "      <th>release_date</th>\n",
       "      <th>vote_count</th>\n",
       "      <th>vote_average</th>\n",
       "      <th>release_year</th>\n",
       "      <th>budget_adj</th>\n",
       "      <th>revenue_adj</th>\n",
       "    </tr>\n",
       "  </thead>\n",
       "  <tbody>\n",
       "    <tr>\n",
       "      <th>0</th>\n",
       "      <td>135397</td>\n",
       "      <td>tt0369610</td>\n",
       "      <td>32.985763</td>\n",
       "      <td>150000000</td>\n",
       "      <td>1513528810</td>\n",
       "      <td>Jurassic World</td>\n",
       "      <td>Chris Pratt|Bryce Dallas Howard|Irrfan Khan|Vi...</td>\n",
       "      <td>http://www.jurassicworld.com/</td>\n",
       "      <td>Colin Trevorrow</td>\n",
       "      <td>The park is open.</td>\n",
       "      <td>...</td>\n",
       "      <td>Twenty-two years after the events of Jurassic ...</td>\n",
       "      <td>124</td>\n",
       "      <td>Action|Adventure|Science Fiction|Thriller</td>\n",
       "      <td>Universal Studios|Amblin Entertainment|Legenda...</td>\n",
       "      <td>6/9/15</td>\n",
       "      <td>5562</td>\n",
       "      <td>6.5</td>\n",
       "      <td>2015</td>\n",
       "      <td>1.379999e+08</td>\n",
       "      <td>1.392446e+09</td>\n",
       "    </tr>\n",
       "    <tr>\n",
       "      <th>1</th>\n",
       "      <td>76341</td>\n",
       "      <td>tt1392190</td>\n",
       "      <td>28.419936</td>\n",
       "      <td>150000000</td>\n",
       "      <td>378436354</td>\n",
       "      <td>Mad Max: Fury Road</td>\n",
       "      <td>Tom Hardy|Charlize Theron|Hugh Keays-Byrne|Nic...</td>\n",
       "      <td>http://www.madmaxmovie.com/</td>\n",
       "      <td>George Miller</td>\n",
       "      <td>What a Lovely Day.</td>\n",
       "      <td>...</td>\n",
       "      <td>An apocalyptic story set in the furthest reach...</td>\n",
       "      <td>120</td>\n",
       "      <td>Action|Adventure|Science Fiction|Thriller</td>\n",
       "      <td>Village Roadshow Pictures|Kennedy Miller Produ...</td>\n",
       "      <td>5/13/15</td>\n",
       "      <td>6185</td>\n",
       "      <td>7.1</td>\n",
       "      <td>2015</td>\n",
       "      <td>1.379999e+08</td>\n",
       "      <td>3.481613e+08</td>\n",
       "    </tr>\n",
       "    <tr>\n",
       "      <th>2</th>\n",
       "      <td>262500</td>\n",
       "      <td>tt2908446</td>\n",
       "      <td>13.112507</td>\n",
       "      <td>110000000</td>\n",
       "      <td>295238201</td>\n",
       "      <td>Insurgent</td>\n",
       "      <td>Shailene Woodley|Theo James|Kate Winslet|Ansel...</td>\n",
       "      <td>http://www.thedivergentseries.movie/#insurgent</td>\n",
       "      <td>Robert Schwentke</td>\n",
       "      <td>One Choice Can Destroy You</td>\n",
       "      <td>...</td>\n",
       "      <td>Beatrice Prior must confront her inner demons ...</td>\n",
       "      <td>119</td>\n",
       "      <td>Adventure|Science Fiction|Thriller</td>\n",
       "      <td>Summit Entertainment|Mandeville Films|Red Wago...</td>\n",
       "      <td>3/18/15</td>\n",
       "      <td>2480</td>\n",
       "      <td>6.3</td>\n",
       "      <td>2015</td>\n",
       "      <td>1.012000e+08</td>\n",
       "      <td>2.716190e+08</td>\n",
       "    </tr>\n",
       "    <tr>\n",
       "      <th>3</th>\n",
       "      <td>140607</td>\n",
       "      <td>tt2488496</td>\n",
       "      <td>11.173104</td>\n",
       "      <td>200000000</td>\n",
       "      <td>2068178225</td>\n",
       "      <td>Star Wars: The Force Awakens</td>\n",
       "      <td>Harrison Ford|Mark Hamill|Carrie Fisher|Adam D...</td>\n",
       "      <td>http://www.starwars.com/films/star-wars-episod...</td>\n",
       "      <td>J.J. Abrams</td>\n",
       "      <td>Every generation has a story.</td>\n",
       "      <td>...</td>\n",
       "      <td>Thirty years after defeating the Galactic Empi...</td>\n",
       "      <td>136</td>\n",
       "      <td>Action|Adventure|Science Fiction|Fantasy</td>\n",
       "      <td>Lucasfilm|Truenorth Productions|Bad Robot</td>\n",
       "      <td>12/15/15</td>\n",
       "      <td>5292</td>\n",
       "      <td>7.5</td>\n",
       "      <td>2015</td>\n",
       "      <td>1.839999e+08</td>\n",
       "      <td>1.902723e+09</td>\n",
       "    </tr>\n",
       "    <tr>\n",
       "      <th>4</th>\n",
       "      <td>168259</td>\n",
       "      <td>tt2820852</td>\n",
       "      <td>9.335014</td>\n",
       "      <td>190000000</td>\n",
       "      <td>1506249360</td>\n",
       "      <td>Furious 7</td>\n",
       "      <td>Vin Diesel|Paul Walker|Jason Statham|Michelle ...</td>\n",
       "      <td>http://www.furious7.com/</td>\n",
       "      <td>James Wan</td>\n",
       "      <td>Vengeance Hits Home</td>\n",
       "      <td>...</td>\n",
       "      <td>Deckard Shaw seeks revenge against Dominic Tor...</td>\n",
       "      <td>137</td>\n",
       "      <td>Action|Crime|Thriller</td>\n",
       "      <td>Universal Pictures|Original Film|Media Rights ...</td>\n",
       "      <td>4/1/15</td>\n",
       "      <td>2947</td>\n",
       "      <td>7.3</td>\n",
       "      <td>2015</td>\n",
       "      <td>1.747999e+08</td>\n",
       "      <td>1.385749e+09</td>\n",
       "    </tr>\n",
       "  </tbody>\n",
       "</table>\n",
       "<p>5 rows × 21 columns</p>\n",
       "</div>"
      ],
      "text/plain": [
       "       id    imdb_id  popularity     budget     revenue  \\\n",
       "0  135397  tt0369610   32.985763  150000000  1513528810   \n",
       "1   76341  tt1392190   28.419936  150000000   378436354   \n",
       "2  262500  tt2908446   13.112507  110000000   295238201   \n",
       "3  140607  tt2488496   11.173104  200000000  2068178225   \n",
       "4  168259  tt2820852    9.335014  190000000  1506249360   \n",
       "\n",
       "                 original_title  \\\n",
       "0                Jurassic World   \n",
       "1            Mad Max: Fury Road   \n",
       "2                     Insurgent   \n",
       "3  Star Wars: The Force Awakens   \n",
       "4                     Furious 7   \n",
       "\n",
       "                                                cast  \\\n",
       "0  Chris Pratt|Bryce Dallas Howard|Irrfan Khan|Vi...   \n",
       "1  Tom Hardy|Charlize Theron|Hugh Keays-Byrne|Nic...   \n",
       "2  Shailene Woodley|Theo James|Kate Winslet|Ansel...   \n",
       "3  Harrison Ford|Mark Hamill|Carrie Fisher|Adam D...   \n",
       "4  Vin Diesel|Paul Walker|Jason Statham|Michelle ...   \n",
       "\n",
       "                                            homepage          director  \\\n",
       "0                      http://www.jurassicworld.com/   Colin Trevorrow   \n",
       "1                        http://www.madmaxmovie.com/     George Miller   \n",
       "2     http://www.thedivergentseries.movie/#insurgent  Robert Schwentke   \n",
       "3  http://www.starwars.com/films/star-wars-episod...       J.J. Abrams   \n",
       "4                           http://www.furious7.com/         James Wan   \n",
       "\n",
       "                         tagline  ...  \\\n",
       "0              The park is open.  ...   \n",
       "1             What a Lovely Day.  ...   \n",
       "2     One Choice Can Destroy You  ...   \n",
       "3  Every generation has a story.  ...   \n",
       "4            Vengeance Hits Home  ...   \n",
       "\n",
       "                                            overview runtime  \\\n",
       "0  Twenty-two years after the events of Jurassic ...     124   \n",
       "1  An apocalyptic story set in the furthest reach...     120   \n",
       "2  Beatrice Prior must confront her inner demons ...     119   \n",
       "3  Thirty years after defeating the Galactic Empi...     136   \n",
       "4  Deckard Shaw seeks revenge against Dominic Tor...     137   \n",
       "\n",
       "                                      genres  \\\n",
       "0  Action|Adventure|Science Fiction|Thriller   \n",
       "1  Action|Adventure|Science Fiction|Thriller   \n",
       "2         Adventure|Science Fiction|Thriller   \n",
       "3   Action|Adventure|Science Fiction|Fantasy   \n",
       "4                      Action|Crime|Thriller   \n",
       "\n",
       "                                production_companies release_date vote_count  \\\n",
       "0  Universal Studios|Amblin Entertainment|Legenda...       6/9/15       5562   \n",
       "1  Village Roadshow Pictures|Kennedy Miller Produ...      5/13/15       6185   \n",
       "2  Summit Entertainment|Mandeville Films|Red Wago...      3/18/15       2480   \n",
       "3          Lucasfilm|Truenorth Productions|Bad Robot     12/15/15       5292   \n",
       "4  Universal Pictures|Original Film|Media Rights ...       4/1/15       2947   \n",
       "\n",
       "   vote_average  release_year    budget_adj   revenue_adj  \n",
       "0           6.5          2015  1.379999e+08  1.392446e+09  \n",
       "1           7.1          2015  1.379999e+08  3.481613e+08  \n",
       "2           6.3          2015  1.012000e+08  2.716190e+08  \n",
       "3           7.5          2015  1.839999e+08  1.902723e+09  \n",
       "4           7.3          2015  1.747999e+08  1.385749e+09  \n",
       "\n",
       "[5 rows x 21 columns]"
      ]
     },
     "execution_count": 2,
     "metadata": {},
     "output_type": "execute_result"
    }
   ],
   "source": [
    "df = pd.read_csv('tmdb-movies.csv')\n",
    "df.head()"
   ]
  },
  {
   "cell_type": "code",
   "execution_count": 3,
   "id": "2460e753",
   "metadata": {},
   "outputs": [
    {
     "name": "stdout",
     "output_type": "stream",
     "text": [
      "<class 'pandas.core.frame.DataFrame'>\n",
      "RangeIndex: 10866 entries, 0 to 10865\n",
      "Data columns (total 21 columns):\n",
      " #   Column                Non-Null Count  Dtype  \n",
      "---  ------                --------------  -----  \n",
      " 0   id                    10866 non-null  int64  \n",
      " 1   imdb_id               10856 non-null  object \n",
      " 2   popularity            10866 non-null  float64\n",
      " 3   budget                10866 non-null  int64  \n",
      " 4   revenue               10866 non-null  int64  \n",
      " 5   original_title        10866 non-null  object \n",
      " 6   cast                  10790 non-null  object \n",
      " 7   homepage              2936 non-null   object \n",
      " 8   director              10822 non-null  object \n",
      " 9   tagline               8042 non-null   object \n",
      " 10  keywords              9373 non-null   object \n",
      " 11  overview              10862 non-null  object \n",
      " 12  runtime               10866 non-null  int64  \n",
      " 13  genres                10843 non-null  object \n",
      " 14  production_companies  9836 non-null   object \n",
      " 15  release_date          10866 non-null  object \n",
      " 16  vote_count            10866 non-null  int64  \n",
      " 17  vote_average          10866 non-null  float64\n",
      " 18  release_year          10866 non-null  int64  \n",
      " 19  budget_adj            10866 non-null  float64\n",
      " 20  revenue_adj           10866 non-null  float64\n",
      "dtypes: float64(4), int64(6), object(11)\n",
      "memory usage: 1.7+ MB\n"
     ]
    }
   ],
   "source": [
    "df.info()"
   ]
  },
  {
   "cell_type": "markdown",
   "id": "c0cdd3c4",
   "metadata": {},
   "source": [
    "### Data Cleaning"
   ]
  },
  {
   "cell_type": "code",
   "execution_count": 4,
   "id": "d9e1924b",
   "metadata": {},
   "outputs": [],
   "source": [
    "#first we drop the unnecessary columns. Tagline, cast, keywords, overview are all irrelevant to answering the questions\n",
    "df.drop(['tagline', 'cast', 'keywords', 'overview'], axis=1, inplace=True)"
   ]
  },
  {
   "cell_type": "code",
   "execution_count": 5,
   "id": "4e7c238f",
   "metadata": {},
   "outputs": [],
   "source": [
    "#convert release date to datetime format\n",
    "df['release_date'] = pd.to_datetime(df['release_date'])"
   ]
  },
  {
   "cell_type": "code",
   "execution_count": 6,
   "id": "1fb6ea4a",
   "metadata": {},
   "outputs": [],
   "source": [
    "#Null value rows of imdb_id column have incomplete data in other columns, so we drop them\n",
    "df.dropna(subset=['imdb_id'], inplace=True)"
   ]
  },
  {
   "cell_type": "code",
   "execution_count": 7,
   "id": "2f659f63",
   "metadata": {},
   "outputs": [
    {
     "name": "stdout",
     "output_type": "stream",
     "text": [
      "1\n"
     ]
    }
   ],
   "source": [
    "#Search for duplicates and delete any\n",
    "print(df.duplicated().sum())\n",
    "df.drop_duplicates(inplace=True)"
   ]
  },
  {
   "cell_type": "code",
   "execution_count": 8,
   "id": "738bbfe4",
   "metadata": {},
   "outputs": [
    {
     "data": {
      "text/html": [
       "<div>\n",
       "<style scoped>\n",
       "    .dataframe tbody tr th:only-of-type {\n",
       "        vertical-align: middle;\n",
       "    }\n",
       "\n",
       "    .dataframe tbody tr th {\n",
       "        vertical-align: top;\n",
       "    }\n",
       "\n",
       "    .dataframe thead th {\n",
       "        text-align: right;\n",
       "    }\n",
       "</style>\n",
       "<table border=\"1\" class=\"dataframe\">\n",
       "  <thead>\n",
       "    <tr style=\"text-align: right;\">\n",
       "      <th></th>\n",
       "      <th>imdb_id</th>\n",
       "      <th>popularity</th>\n",
       "      <th>budget</th>\n",
       "      <th>revenue</th>\n",
       "      <th>homepage</th>\n",
       "      <th>director</th>\n",
       "      <th>runtime</th>\n",
       "      <th>genres</th>\n",
       "      <th>production_companies</th>\n",
       "      <th>release_date</th>\n",
       "      <th>vote_count</th>\n",
       "      <th>vote_average</th>\n",
       "      <th>release_year</th>\n",
       "      <th>budget_adj</th>\n",
       "      <th>revenue_adj</th>\n",
       "    </tr>\n",
       "  </thead>\n",
       "  <tbody>\n",
       "    <tr>\n",
       "      <th>0</th>\n",
       "      <td>tt0369610</td>\n",
       "      <td>32.985763</td>\n",
       "      <td>150000000</td>\n",
       "      <td>1513528810</td>\n",
       "      <td>http://www.jurassicworld.com/</td>\n",
       "      <td>Colin Trevorrow</td>\n",
       "      <td>124</td>\n",
       "      <td>Action|Adventure|Science Fiction|Thriller</td>\n",
       "      <td>[Universal Studios, Amblin Entertainment, Lege...</td>\n",
       "      <td>2015-06-09</td>\n",
       "      <td>5562</td>\n",
       "      <td>6.5</td>\n",
       "      <td>2015</td>\n",
       "      <td>1.379999e+08</td>\n",
       "      <td>1.392446e+09</td>\n",
       "    </tr>\n",
       "    <tr>\n",
       "      <th>1</th>\n",
       "      <td>tt1392190</td>\n",
       "      <td>28.419936</td>\n",
       "      <td>150000000</td>\n",
       "      <td>378436354</td>\n",
       "      <td>http://www.madmaxmovie.com/</td>\n",
       "      <td>George Miller</td>\n",
       "      <td>120</td>\n",
       "      <td>Action|Adventure|Science Fiction|Thriller</td>\n",
       "      <td>[Village Roadshow Pictures, Kennedy Miller Pro...</td>\n",
       "      <td>2015-05-13</td>\n",
       "      <td>6185</td>\n",
       "      <td>7.1</td>\n",
       "      <td>2015</td>\n",
       "      <td>1.379999e+08</td>\n",
       "      <td>3.481613e+08</td>\n",
       "    </tr>\n",
       "    <tr>\n",
       "      <th>2</th>\n",
       "      <td>tt2908446</td>\n",
       "      <td>13.112507</td>\n",
       "      <td>110000000</td>\n",
       "      <td>295238201</td>\n",
       "      <td>http://www.thedivergentseries.movie/#insurgent</td>\n",
       "      <td>Robert Schwentke</td>\n",
       "      <td>119</td>\n",
       "      <td>Adventure|Science Fiction|Thriller</td>\n",
       "      <td>[Summit Entertainment, Mandeville Films, Red W...</td>\n",
       "      <td>2015-03-18</td>\n",
       "      <td>2480</td>\n",
       "      <td>6.3</td>\n",
       "      <td>2015</td>\n",
       "      <td>1.012000e+08</td>\n",
       "      <td>2.716190e+08</td>\n",
       "    </tr>\n",
       "    <tr>\n",
       "      <th>3</th>\n",
       "      <td>tt2488496</td>\n",
       "      <td>11.173104</td>\n",
       "      <td>200000000</td>\n",
       "      <td>2068178225</td>\n",
       "      <td>http://www.starwars.com/films/star-wars-episod...</td>\n",
       "      <td>J.J. Abrams</td>\n",
       "      <td>136</td>\n",
       "      <td>Action|Adventure|Science Fiction|Fantasy</td>\n",
       "      <td>[Lucasfilm, Truenorth Productions, Bad Robot]</td>\n",
       "      <td>2015-12-15</td>\n",
       "      <td>5292</td>\n",
       "      <td>7.5</td>\n",
       "      <td>2015</td>\n",
       "      <td>1.839999e+08</td>\n",
       "      <td>1.902723e+09</td>\n",
       "    </tr>\n",
       "    <tr>\n",
       "      <th>4</th>\n",
       "      <td>tt2820852</td>\n",
       "      <td>9.335014</td>\n",
       "      <td>190000000</td>\n",
       "      <td>1506249360</td>\n",
       "      <td>http://www.furious7.com/</td>\n",
       "      <td>James Wan</td>\n",
       "      <td>137</td>\n",
       "      <td>Action|Crime|Thriller</td>\n",
       "      <td>[Universal Pictures, Original Film, Media Righ...</td>\n",
       "      <td>2015-04-01</td>\n",
       "      <td>2947</td>\n",
       "      <td>7.3</td>\n",
       "      <td>2015</td>\n",
       "      <td>1.747999e+08</td>\n",
       "      <td>1.385749e+09</td>\n",
       "    </tr>\n",
       "  </tbody>\n",
       "</table>\n",
       "</div>"
      ],
      "text/plain": [
       "     imdb_id  popularity     budget     revenue  \\\n",
       "0  tt0369610   32.985763  150000000  1513528810   \n",
       "1  tt1392190   28.419936  150000000   378436354   \n",
       "2  tt2908446   13.112507  110000000   295238201   \n",
       "3  tt2488496   11.173104  200000000  2068178225   \n",
       "4  tt2820852    9.335014  190000000  1506249360   \n",
       "\n",
       "                                            homepage          director  \\\n",
       "0                      http://www.jurassicworld.com/   Colin Trevorrow   \n",
       "1                        http://www.madmaxmovie.com/     George Miller   \n",
       "2     http://www.thedivergentseries.movie/#insurgent  Robert Schwentke   \n",
       "3  http://www.starwars.com/films/star-wars-episod...       J.J. Abrams   \n",
       "4                           http://www.furious7.com/         James Wan   \n",
       "\n",
       "   runtime                                     genres  \\\n",
       "0      124  Action|Adventure|Science Fiction|Thriller   \n",
       "1      120  Action|Adventure|Science Fiction|Thriller   \n",
       "2      119         Adventure|Science Fiction|Thriller   \n",
       "3      136   Action|Adventure|Science Fiction|Fantasy   \n",
       "4      137                      Action|Crime|Thriller   \n",
       "\n",
       "                                production_companies release_date  vote_count  \\\n",
       "0  [Universal Studios, Amblin Entertainment, Lege...   2015-06-09        5562   \n",
       "1  [Village Roadshow Pictures, Kennedy Miller Pro...   2015-05-13        6185   \n",
       "2  [Summit Entertainment, Mandeville Films, Red W...   2015-03-18        2480   \n",
       "3      [Lucasfilm, Truenorth Productions, Bad Robot]   2015-12-15        5292   \n",
       "4  [Universal Pictures, Original Film, Media Righ...   2015-04-01        2947   \n",
       "\n",
       "   vote_average  release_year    budget_adj   revenue_adj  \n",
       "0           6.5          2015  1.379999e+08  1.392446e+09  \n",
       "1           7.1          2015  1.379999e+08  3.481613e+08  \n",
       "2           6.3          2015  1.012000e+08  2.716190e+08  \n",
       "3           7.5          2015  1.839999e+08  1.902723e+09  \n",
       "4           7.3          2015  1.747999e+08  1.385749e+09  "
      ]
     },
     "execution_count": 8,
     "metadata": {},
     "output_type": "execute_result"
    }
   ],
   "source": [
    "#we can drop columns id and original title also, as they are irrelevant to answering the questions\n",
    "df.drop(['id', 'original_title'], inplace=True, axis=1)\n",
    "# we then convert production companies column to a list type instead of string format, for easy analysis.\n",
    "# we do this by splitting on '|'\n",
    "\n",
    "df['production_companies'] = df['production_companies'].str.split('|')\n",
    "df.head()"
   ]
  },
  {
   "cell_type": "code",
   "execution_count": 9,
   "id": "664171c4",
   "metadata": {},
   "outputs": [
    {
     "name": "stdout",
     "output_type": "stream",
     "text": [
      "<class 'pandas.core.frame.DataFrame'>\n",
      "Int64Index: 10855 entries, 0 to 10865\n",
      "Data columns (total 15 columns):\n",
      " #   Column                Non-Null Count  Dtype         \n",
      "---  ------                --------------  -----         \n",
      " 0   imdb_id               10855 non-null  object        \n",
      " 1   popularity            10855 non-null  float64       \n",
      " 2   budget                10855 non-null  int64         \n",
      " 3   revenue               10855 non-null  int64         \n",
      " 4   homepage              2934 non-null   object        \n",
      " 5   director              10815 non-null  object        \n",
      " 6   runtime               10855 non-null  int64         \n",
      " 7   genres                10834 non-null  object        \n",
      " 8   production_companies  9830 non-null   object        \n",
      " 9   release_date          10855 non-null  datetime64[ns]\n",
      " 10  vote_count            10855 non-null  int64         \n",
      " 11  vote_average          10855 non-null  float64       \n",
      " 12  release_year          10855 non-null  int64         \n",
      " 13  budget_adj            10855 non-null  float64       \n",
      " 14  revenue_adj           10855 non-null  float64       \n",
      "dtypes: datetime64[ns](1), float64(4), int64(5), object(5)\n",
      "memory usage: 1.3+ MB\n"
     ]
    }
   ],
   "source": [
    "df.info()"
   ]
  },
  {
   "cell_type": "markdown",
   "id": "072f44d0",
   "metadata": {},
   "source": [
    "<a id='eda'></a>\n",
    "## Exploratory Data Analysis\n",
    "\n",
    "\n",
    "### Question 1: What movie costs more to build, action or adventure?"
   ]
  },
  {
   "cell_type": "code",
   "execution_count": 10,
   "id": "d763e946",
   "metadata": {},
   "outputs": [
    {
     "data": {
      "text/html": [
       "<div>\n",
       "<style scoped>\n",
       "    .dataframe tbody tr th:only-of-type {\n",
       "        vertical-align: middle;\n",
       "    }\n",
       "\n",
       "    .dataframe tbody tr th {\n",
       "        vertical-align: top;\n",
       "    }\n",
       "\n",
       "    .dataframe thead th {\n",
       "        text-align: right;\n",
       "    }\n",
       "</style>\n",
       "<table border=\"1\" class=\"dataframe\">\n",
       "  <thead>\n",
       "    <tr style=\"text-align: right;\">\n",
       "      <th></th>\n",
       "      <th>genres</th>\n",
       "      <th>new_genre</th>\n",
       "    </tr>\n",
       "  </thead>\n",
       "  <tbody>\n",
       "    <tr>\n",
       "      <th>0</th>\n",
       "      <td>Action|Adventure|Science Fiction|Thriller</td>\n",
       "      <td>Action and Adventure</td>\n",
       "    </tr>\n",
       "    <tr>\n",
       "      <th>1</th>\n",
       "      <td>Action|Adventure|Science Fiction|Thriller</td>\n",
       "      <td>Action and Adventure</td>\n",
       "    </tr>\n",
       "    <tr>\n",
       "      <th>2</th>\n",
       "      <td>Adventure|Science Fiction|Thriller</td>\n",
       "      <td>Adventure</td>\n",
       "    </tr>\n",
       "    <tr>\n",
       "      <th>3</th>\n",
       "      <td>Action|Adventure|Science Fiction|Fantasy</td>\n",
       "      <td>Action and Adventure</td>\n",
       "    </tr>\n",
       "    <tr>\n",
       "      <th>4</th>\n",
       "      <td>Action|Crime|Thriller</td>\n",
       "      <td>Action</td>\n",
       "    </tr>\n",
       "  </tbody>\n",
       "</table>\n",
       "</div>"
      ],
      "text/plain": [
       "                                      genres             new_genre\n",
       "0  Action|Adventure|Science Fiction|Thriller  Action and Adventure\n",
       "1  Action|Adventure|Science Fiction|Thriller  Action and Adventure\n",
       "2         Adventure|Science Fiction|Thriller             Adventure\n",
       "3   Action|Adventure|Science Fiction|Fantasy  Action and Adventure\n",
       "4                      Action|Crime|Thriller                Action"
      ]
     },
     "execution_count": 10,
     "metadata": {},
     "output_type": "execute_result"
    }
   ],
   "source": [
    "# To answer this, first we need to split the movies into action and adventure movies. The movies containing both genres\n",
    "# will be categorized as \"Action and Adventure\". Those that do not belong to either genre will be NaN types and will be dropped later.\n",
    "# A function is the best way to go about this. A new column will be created.\n",
    "df1 = df.copy()\n",
    "# a copy of the dataset is made so as not to cause permanent loss of important info in main dataframe.\n",
    "def genre_sort(genre):\n",
    "    if 'Adventure' in str(genre) and 'Action' in str(genre):\n",
    "        return 'Action and Adventure'\n",
    "    elif 'Adventure' in str(genre):\n",
    "        return 'Adventure'\n",
    "    elif 'Action' in str(genre):\n",
    "        return 'Action'\n",
    "    else:\n",
    "        return np.nan\n",
    "    \n",
    "df1['new_genre'] = df['genres'].apply(genre_sort)\n",
    "# to view our new column,\n",
    "df1[['genres', 'new_genre']].head()"
   ]
  },
  {
   "cell_type": "code",
   "execution_count": 11,
   "id": "e2d19bbd",
   "metadata": {},
   "outputs": [],
   "source": [
    "# To write a function that will help in plotting\n",
    "# The bar_plotter function takes seven parameters: x-axis coordinates, bar heights, tick labels, colors, chart title, \n",
    "# x-axis title and y-axis title.\n",
    "def bar_plotter(x, xheight, ticks, colors, title1, xlabel1, ylabel1):\n",
    "    plt.figure(figsize=(10,5))\n",
    "    plt.bar(x, xheight, tick_label=ticks, color=colors)\n",
    "    # to add values on each bar, \n",
    "    for i in range(len(x)):\n",
    "        plt.text(i, xheight[i], round(xheight[i], 2), ha='center')\n",
    "    plt.title(title1)\n",
    "    plt.xlabel(xlabel1)\n",
    "    plt.ylabel(ylabel1)\n",
    "    plt.show()"
   ]
  },
  {
   "cell_type": "code",
   "execution_count": 12,
   "id": "8d63e586",
   "metadata": {},
   "outputs": [
    {
     "name": "stdout",
     "output_type": "stream",
     "text": [
      "new_genre\n",
      "Action                  2.018227e+07\n",
      "Action and Adventure    4.138920e+07\n",
      "Adventure               3.234056e+07\n",
      "Name: budget, dtype: float64\n"
     ]
    },
    {
     "data": {
      "image/png": "[encoded data removed]",
      "text/plain": [
       "<Figure size 720x360 with 1 Axes>"
      ]
     },
     "metadata": {
      "needs_background": "light"
     },
     "output_type": "display_data"
    }
   ],
   "source": [
    "#we then drop NaN, calculate mean budget and visualize results\n",
    "df1.dropna(subset=['new_genre'], inplace=True)\n",
    "budgets = df1.groupby('new_genre').budget.mean()\n",
    "print(budgets)\n",
    "bar_plotter([0, 1, 2], budgets.values, budgets.index, ['r', 'y', 'b'], 'Budget vs Genre', 'Genre', 'Budget')"
   ]
  },
  {
   "cell_type": "code",
   "execution_count": 13,
   "id": "a7347bc7",
   "metadata": {},
   "outputs": [
    {
     "data": {
      "text/plain": [
       "new_genre\n",
       "Action                  2.374361e+08\n",
       "Action and Adventure    4.250000e+08\n",
       "Adventure               2.541001e+08\n",
       "Name: budget_adj, dtype: float64"
      ]
     },
     "execution_count": 13,
     "metadata": {},
     "output_type": "execute_result"
    }
   ],
   "source": [
    "df1.groupby('new_genre').budget_adj.max()"
   ]
  },
  {
   "cell_type": "markdown",
   "id": "efaf53ff",
   "metadata": {},
   "source": [
    "We can say from our results that Adventure movies cost more than Action movies on average by about \\\\$12.16M, and movies that are both action and adventure cost the most on average. Also, the most expensive of the three is the \"Action and Adventure\" category while the most expensive Adventure movie surpasses that of Action by $1.7M."
   ]
  },
  {
   "cell_type": "markdown",
   "id": "efab08a1",
   "metadata": {},
   "source": [
    "### Question 2: Do movies with homepages gain more popularity than movies without?"
   ]
  },
  {
   "cell_type": "code",
   "execution_count": 14,
   "id": "3038c618",
   "metadata": {},
   "outputs": [
    {
     "data": {
      "image/png": "[encoded data removed]",
      "text/plain": [
       "<Figure size 720x360 with 1 Axes>"
      ]
     },
     "metadata": {
      "needs_background": "light"
     },
     "output_type": "display_data"
    }
   ],
   "source": [
    "# To analyse this, first we have to separate the movies with homepages and those without, using boolean masks\n",
    "df2 = df.copy()\n",
    "# again, we make copies so as not to cause permanent loss of data in main dataset. This will be done in other questions\n",
    "home = df2.homepage.isnull()==False\n",
    "no_home = df2.homepage.isnull()\n",
    "bar_plotter([0,1], [df2[home].popularity.mean(), df2[no_home].popularity.mean()], ['homepage', 'no homepage'], \n",
    "            ['b', 'r'], 'Homepage and Popularity', '', 'Popularity')"
   ]
  },
  {
   "cell_type": "markdown",
   "id": "6b19a4e7",
   "metadata": {},
   "source": [
    "As expected, movies that have homepages would be more popular because they gain more awareness from their sites."
   ]
  },
  {
   "cell_type": "markdown",
   "id": "ab33e6ae",
   "metadata": {},
   "source": [
    "### Question 3: What year and what decade had the best movie (vote_average) on average?"
   ]
  },
  {
   "cell_type": "code",
   "execution_count": 15,
   "id": "2c18e0fa",
   "metadata": {},
   "outputs": [
    {
     "data": {
      "text/html": [
       "<div>\n",
       "<style scoped>\n",
       "    .dataframe tbody tr th:only-of-type {\n",
       "        vertical-align: middle;\n",
       "    }\n",
       "\n",
       "    .dataframe tbody tr th {\n",
       "        vertical-align: top;\n",
       "    }\n",
       "\n",
       "    .dataframe thead th {\n",
       "        text-align: right;\n",
       "    }\n",
       "</style>\n",
       "<table border=\"1\" class=\"dataframe\">\n",
       "  <thead>\n",
       "    <tr style=\"text-align: right;\">\n",
       "      <th></th>\n",
       "      <th>imdb_id</th>\n",
       "      <th>popularity</th>\n",
       "      <th>budget</th>\n",
       "      <th>revenue</th>\n",
       "      <th>homepage</th>\n",
       "      <th>director</th>\n",
       "      <th>runtime</th>\n",
       "      <th>genres</th>\n",
       "      <th>production_companies</th>\n",
       "      <th>release_date</th>\n",
       "      <th>vote_count</th>\n",
       "      <th>vote_average</th>\n",
       "      <th>release_year</th>\n",
       "      <th>budget_adj</th>\n",
       "      <th>revenue_adj</th>\n",
       "    </tr>\n",
       "  </thead>\n",
       "  <tbody>\n",
       "    <tr>\n",
       "      <th>3894</th>\n",
       "      <td>tt2044056</td>\n",
       "      <td>0.006925</td>\n",
       "      <td>0</td>\n",
       "      <td>0</td>\n",
       "      <td>http://www.channel4.com/programmes/the-story-o...</td>\n",
       "      <td>Mark Cousins</td>\n",
       "      <td>900</td>\n",
       "      <td>Documentary</td>\n",
       "      <td>NaN</td>\n",
       "      <td>2011-09-03</td>\n",
       "      <td>14</td>\n",
       "      <td>9.2</td>\n",
       "      <td>2011</td>\n",
       "      <td>0.0</td>\n",
       "      <td>0.0</td>\n",
       "    </tr>\n",
       "    <tr>\n",
       "      <th>538</th>\n",
       "      <td>tt3983674</td>\n",
       "      <td>0.114264</td>\n",
       "      <td>0</td>\n",
       "      <td>0</td>\n",
       "      <td>http://themaskyoulivein.org</td>\n",
       "      <td>Jennifer Siebel Newsom</td>\n",
       "      <td>88</td>\n",
       "      <td>Documentary</td>\n",
       "      <td>NaN</td>\n",
       "      <td>2015-01-01</td>\n",
       "      <td>11</td>\n",
       "      <td>8.9</td>\n",
       "      <td>2015</td>\n",
       "      <td>0.0</td>\n",
       "      <td>0.0</td>\n",
       "    </tr>\n",
       "    <tr>\n",
       "      <th>1200</th>\n",
       "      <td>tt3973198</td>\n",
       "      <td>0.129531</td>\n",
       "      <td>0</td>\n",
       "      <td>0</td>\n",
       "      <td>NaN</td>\n",
       "      <td>Carl Tibbetts</td>\n",
       "      <td>74</td>\n",
       "      <td>Drama|Horror|Mystery|Science Fiction|Thriller</td>\n",
       "      <td>NaN</td>\n",
       "      <td>2014-12-16</td>\n",
       "      <td>41</td>\n",
       "      <td>8.8</td>\n",
       "      <td>2014</td>\n",
       "      <td>0.0</td>\n",
       "      <td>0.0</td>\n",
       "    </tr>\n",
       "    <tr>\n",
       "      <th>2269</th>\n",
       "      <td>tt1828232</td>\n",
       "      <td>0.222293</td>\n",
       "      <td>0</td>\n",
       "      <td>0</td>\n",
       "      <td>http://www.lifecyclesfilm.com/</td>\n",
       "      <td>Derek Frankowski</td>\n",
       "      <td>47</td>\n",
       "      <td>Documentary</td>\n",
       "      <td>NaN</td>\n",
       "      <td>2010-10-02</td>\n",
       "      <td>27</td>\n",
       "      <td>8.8</td>\n",
       "      <td>2010</td>\n",
       "      <td>0.0</td>\n",
       "      <td>0.0</td>\n",
       "    </tr>\n",
       "    <tr>\n",
       "      <th>6911</th>\n",
       "      <td>tt0110758</td>\n",
       "      <td>0.212010</td>\n",
       "      <td>0</td>\n",
       "      <td>0</td>\n",
       "      <td>NaN</td>\n",
       "      <td>David Mallet</td>\n",
       "      <td>145</td>\n",
       "      <td>Music</td>\n",
       "      <td>[SMV Enterprises, Columbia Music Video, EMI]</td>\n",
       "      <td>2006-07-09</td>\n",
       "      <td>23</td>\n",
       "      <td>8.7</td>\n",
       "      <td>2006</td>\n",
       "      <td>0.0</td>\n",
       "      <td>0.0</td>\n",
       "    </tr>\n",
       "  </tbody>\n",
       "</table>\n",
       "</div>"
      ],
      "text/plain": [
       "        imdb_id  popularity  budget  revenue  \\\n",
       "3894  tt2044056    0.006925       0        0   \n",
       "538   tt3983674    0.114264       0        0   \n",
       "1200  tt3973198    0.129531       0        0   \n",
       "2269  tt1828232    0.222293       0        0   \n",
       "6911  tt0110758    0.212010       0        0   \n",
       "\n",
       "                                               homepage  \\\n",
       "3894  http://www.channel4.com/programmes/the-story-o...   \n",
       "538                         http://themaskyoulivein.org   \n",
       "1200                                                NaN   \n",
       "2269                     http://www.lifecyclesfilm.com/   \n",
       "6911                                                NaN   \n",
       "\n",
       "                    director  runtime  \\\n",
       "3894            Mark Cousins      900   \n",
       "538   Jennifer Siebel Newsom       88   \n",
       "1200           Carl Tibbetts       74   \n",
       "2269        Derek Frankowski       47   \n",
       "6911            David Mallet      145   \n",
       "\n",
       "                                             genres  \\\n",
       "3894                                    Documentary   \n",
       "538                                     Documentary   \n",
       "1200  Drama|Horror|Mystery|Science Fiction|Thriller   \n",
       "2269                                    Documentary   \n",
       "6911                                          Music   \n",
       "\n",
       "                              production_companies release_date  vote_count  \\\n",
       "3894                                           NaN   2011-09-03          14   \n",
       "538                                            NaN   2015-01-01          11   \n",
       "1200                                           NaN   2014-12-16          41   \n",
       "2269                                           NaN   2010-10-02          27   \n",
       "6911  [SMV Enterprises, Columbia Music Video, EMI]   2006-07-09          23   \n",
       "\n",
       "      vote_average  release_year  budget_adj  revenue_adj  \n",
       "3894           9.2          2011         0.0          0.0  \n",
       "538            8.9          2015         0.0          0.0  \n",
       "1200           8.8          2014         0.0          0.0  \n",
       "2269           8.8          2010         0.0          0.0  \n",
       "6911           8.7          2006         0.0          0.0  "
      ]
     },
     "execution_count": 15,
     "metadata": {},
     "output_type": "execute_result"
    }
   ],
   "source": [
    "# make a copy of main dataset and sort by vote average in descending order\n",
    "df3 = df.copy()\n",
    "df3.sort_values('vote_average', ascending=False).head()"
   ]
  },
  {
   "cell_type": "markdown",
   "id": "e3305540",
   "metadata": {},
   "source": [
    "The results shown in this grouping seem to have low number of votes, so that does not really make it a fair comparison with more popular movies (i.e movies with more votes).\n",
    "\n",
    "A more effective method would be to pull out the highest vote average from movies with vote counts greater than the median."
   ]
  },
  {
   "cell_type": "code",
   "execution_count": 16,
   "id": "991fe579",
   "metadata": {},
   "outputs": [
    {
     "data": {
      "text/html": [
       "<div>\n",
       "<style scoped>\n",
       "    .dataframe tbody tr th:only-of-type {\n",
       "        vertical-align: middle;\n",
       "    }\n",
       "\n",
       "    .dataframe tbody tr th {\n",
       "        vertical-align: top;\n",
       "    }\n",
       "\n",
       "    .dataframe thead th {\n",
       "        text-align: right;\n",
       "    }\n",
       "</style>\n",
       "<table border=\"1\" class=\"dataframe\">\n",
       "  <thead>\n",
       "    <tr style=\"text-align: right;\">\n",
       "      <th></th>\n",
       "      <th>popularity</th>\n",
       "      <th>budget</th>\n",
       "      <th>revenue</th>\n",
       "      <th>runtime</th>\n",
       "      <th>vote_count</th>\n",
       "      <th>vote_average</th>\n",
       "      <th>budget_adj</th>\n",
       "      <th>revenue_adj</th>\n",
       "    </tr>\n",
       "    <tr>\n",
       "      <th>release_year</th>\n",
       "      <th></th>\n",
       "      <th></th>\n",
       "      <th></th>\n",
       "      <th></th>\n",
       "      <th></th>\n",
       "      <th></th>\n",
       "      <th></th>\n",
       "      <th></th>\n",
       "    </tr>\n",
       "  </thead>\n",
       "  <tbody>\n",
       "    <tr>\n",
       "      <th>1960</th>\n",
       "      <td>1.092246</td>\n",
       "      <td>2.319618e+06</td>\n",
       "      <td>1.523812e+07</td>\n",
       "      <td>127.000000</td>\n",
       "      <td>261.625000</td>\n",
       "      <td>7.250000</td>\n",
       "      <td>1.710247e+07</td>\n",
       "      <td>1.123502e+08</td>\n",
       "    </tr>\n",
       "    <tr>\n",
       "      <th>1962</th>\n",
       "      <td>0.914357</td>\n",
       "      <td>4.053333e+06</td>\n",
       "      <td>1.674776e+07</td>\n",
       "      <td>141.666667</td>\n",
       "      <td>221.444444</td>\n",
       "      <td>7.066667</td>\n",
       "      <td>2.921825e+07</td>\n",
       "      <td>1.207254e+08</td>\n",
       "    </tr>\n",
       "    <tr>\n",
       "      <th>1964</th>\n",
       "      <td>1.232442</td>\n",
       "      <td>3.437240e+06</td>\n",
       "      <td>3.655353e+07</td>\n",
       "      <td>113.777778</td>\n",
       "      <td>287.000000</td>\n",
       "      <td>7.066667</td>\n",
       "      <td>2.416472e+07</td>\n",
       "      <td>2.569811e+08</td>\n",
       "    </tr>\n",
       "    <tr>\n",
       "      <th>1967</th>\n",
       "      <td>1.050560</td>\n",
       "      <td>5.380538e+06</td>\n",
       "      <td>5.160266e+07</td>\n",
       "      <td>110.846154</td>\n",
       "      <td>202.230769</td>\n",
       "      <td>6.953846</td>\n",
       "      <td>3.517131e+07</td>\n",
       "      <td>3.373144e+08</td>\n",
       "    </tr>\n",
       "    <tr>\n",
       "      <th>1965</th>\n",
       "      <td>0.884176</td>\n",
       "      <td>5.000000e+06</td>\n",
       "      <td>5.944741e+07</td>\n",
       "      <td>118.857143</td>\n",
       "      <td>190.428571</td>\n",
       "      <td>6.914286</td>\n",
       "      <td>3.460282e+07</td>\n",
       "      <td>4.114096e+08</td>\n",
       "    </tr>\n",
       "  </tbody>\n",
       "</table>\n",
       "</div>"
      ],
      "text/plain": [
       "              popularity        budget       revenue     runtime  vote_count  \\\n",
       "release_year                                                                   \n",
       "1960            1.092246  2.319618e+06  1.523812e+07  127.000000  261.625000   \n",
       "1962            0.914357  4.053333e+06  1.674776e+07  141.666667  221.444444   \n",
       "1964            1.232442  3.437240e+06  3.655353e+07  113.777778  287.000000   \n",
       "1967            1.050560  5.380538e+06  5.160266e+07  110.846154  202.230769   \n",
       "1965            0.884176  5.000000e+06  5.944741e+07  118.857143  190.428571   \n",
       "\n",
       "              vote_average    budget_adj   revenue_adj  \n",
       "release_year                                            \n",
       "1960              7.250000  1.710247e+07  1.123502e+08  \n",
       "1962              7.066667  2.921825e+07  1.207254e+08  \n",
       "1964              7.066667  2.416472e+07  2.569811e+08  \n",
       "1967              6.953846  3.517131e+07  3.373144e+08  \n",
       "1965              6.914286  3.460282e+07  4.114096e+08  "
      ]
     },
     "execution_count": 16,
     "metadata": {},
     "output_type": "execute_result"
    }
   ],
   "source": [
    "median_vote_count = df3.vote_count.median()\n",
    "df3_filtered = df3.query('vote_count >= {}'.format(median_vote_count))\n",
    "# Now, to cummulate by year and get the years with best vote averages, \n",
    "df3_best_years = df3_filtered.groupby('release_year').mean().sort_values('vote_average', ascending=False).head()\n",
    "df3_best_years"
   ]
  },
  {
   "cell_type": "code",
   "execution_count": 17,
   "id": "8465caa7",
   "metadata": {},
   "outputs": [
    {
     "data": {
      "image/png": "[encoded data removed]",
      "text/plain": [
       "<Figure size 720x360 with 1 Axes>"
      ]
     },
     "metadata": {
      "needs_background": "light"
     },
     "output_type": "display_data"
    }
   ],
   "source": [
    "# to visualize the results,\n",
    "bar_plotter(np.arange(5), list(df3_best_years.vote_average), df3_best_years.index, 'g', 'Year vs Mean Vote Average',\n",
    "           'Year', 'Mean Movie Vote_Average')"
   ]
  },
  {
   "cell_type": "markdown",
   "id": "420047aa",
   "metadata": {},
   "source": [
    "Voila, 1960 had the best movies! :-D\n",
    "\n",
    "Now we know what year to look for interesting movies to watch in our free time. ;-)\n",
    "\n",
    "1962 and 1964 are great picks too!"
   ]
  },
  {
   "cell_type": "code",
   "execution_count": 27,
   "id": "228c074d",
   "metadata": {
    "scrolled": true
   },
   "outputs": [
    {
     "name": "stdout",
     "output_type": "stream",
     "text": [
      "     release_date  release_year     decade\n",
      "1329   1977-03-20          1977  1970-1979\n",
      "1330   1977-07-07          1977  1970-1979\n",
      "1331   1977-06-22          1977  1970-1979\n",
      "1332   1977-04-19          1977  1970-1979\n",
      "1333   1977-11-03          1977  1970-1979\n"
     ]
    }
   ],
   "source": [
    "#To answer for best decades, we have to create a new column and sort by decade up until 2010\n",
    "bin_edges = np.arange(1960, 2011, 10)\n",
    "bin_name = [str(str(1960 + 10*x) + '-' + str(1959+ 10*(x+1))) for x in range(len(bin_edges))]\n",
    "bin_name = bin_name[:-1]\n",
    "# bin_name is a list of all the decades from 1960 till 2010\n",
    "df3_filtered['decade'] = pd.cut(df3_filtered['release_year'], bin_edges, labels=bin_name)\n",
    "#we then drop NaN decade columns i.e 2011-2015 because it is not up to a decade\n",
    "df3_filtered.dropna(subset=['decade'], inplace=True)\n",
    "print(df3_filtered[['release_date', 'release_year', 'decade']].head())\n",
    "# we ignore the jupyter notebook warnings\n",
    "import warnings \n",
    "warnings.filterwarnings('ignore')\n",
    "warnings.simplefilter('ignore')"
   ]
  },
  {
   "cell_type": "code",
   "execution_count": 19,
   "id": "896ac0d2",
   "metadata": {},
   "outputs": [
    {
     "data": {
      "image/png": "[encoded data removed]",
      "text/plain": [
       "<Figure size 720x360 with 1 Axes>"
      ]
     },
     "metadata": {
      "needs_background": "light"
     },
     "output_type": "display_data"
    }
   ],
   "source": [
    "#now we plot to visualize best decades by vote_average mean\n",
    "# first we group by mean vote average\n",
    "best_decades = df3_filtered.groupby('decade').vote_average.mean()\n",
    "# then plot\n",
    "bar_plotter(np.arange(len(best_decades)), best_decades.values, best_decades.index, 'g', 'Decades vs Mean Vote Average',\n",
    "           'Decade', 'Mean Movie Vote_Average')"
   ]
  },
  {
   "cell_type": "markdown",
   "id": "9d42958c",
   "metadata": {},
   "source": [
    "1960-1969 seems to be the decade with the best average ratings and then ratings have then decreased with time(by decades) since then."
   ]
  },
  {
   "cell_type": "markdown",
   "id": "dfd468dd",
   "metadata": {},
   "source": [
    "### Question 4: Which director gets the best ratings?"
   ]
  },
  {
   "cell_type": "code",
   "execution_count": 20,
   "id": "0011a278",
   "metadata": {},
   "outputs": [
    {
     "data": {
      "image/png": "[encoded data removed]",
      "text/plain": [
       "<Figure size 720x360 with 1 Axes>"
      ]
     },
     "metadata": {
      "needs_background": "light"
     },
     "output_type": "display_data"
    }
   ],
   "source": [
    "# To answer this, we first have to filter the directors that have at least 10 movies in the list. \n",
    "df4 = df.copy()\n",
    "directors = df4.director.value_counts()\n",
    "directors = directors[directors>=10]\n",
    "# dictionary to store directors and their mean vote_averages\n",
    "director_count = {}\n",
    "for director in directors.index:\n",
    "    director_count[director] = df4[df4['director'] == director].vote_average.mean()\n",
    "# to convert the dict to series for easy computation\n",
    "dir_series = pd.Series(director_count)\n",
    "best_dir = dir_series.sort_values(ascending=False)[:5]\n",
    "# then we visualize\n",
    "bar_plotter(np.arange(5), best_dir.values, best_dir.index, 'magenta', 'Best 5 Directors',\n",
    "            'Director Name', 'Mean Movie Vote Average')"
   ]
  },
  {
   "cell_type": "markdown",
   "id": "47c38927",
   "metadata": {},
   "source": [
    "Christopher Nolan is the movie director with the best voter ratings! Quentin Tarantino (my personal favorite) is runner up :-D"
   ]
  },
  {
   "cell_type": "markdown",
   "id": "f370c87d",
   "metadata": {},
   "source": [
    "### Question 5: Does runtime affect ratings?"
   ]
  },
  {
   "cell_type": "code",
   "execution_count": 21,
   "id": "47f4e851",
   "metadata": {},
   "outputs": [
    {
     "data": {
      "image/png": "[encoded data removed]",
      "text/plain": [
       "<Figure size 720x360 with 1 Axes>"
      ]
     },
     "metadata": {
      "needs_background": "light"
     },
     "output_type": "display_data"
    }
   ],
   "source": [
    "#to have a comprehensive plot, we have to sort in groups: Very Long, Long, Medium and short movies\n",
    "df5 = df.copy()\n",
    "# using the describe() function, we extracted the min,25%, 50%, 75% and max values of runtime. \n",
    "# These values serve as edges for the categorisation.\n",
    "edges = [0, 90, 99, 111, 900]\n",
    "bins = ['Short', 'Medium', 'Long', 'Very Long']\n",
    "df5['runtime_length'] = pd.cut(df5['runtime'], edges, labels=bins)\n",
    "# the cut is made and the column successfully created\n",
    "# now we group by the runtime length and visualize the mean vote averages for each\n",
    "run = df5.groupby('runtime_length').vote_average.mean()\n",
    "bar_plotter(np.arange(4), run.values, run.index, 'brown', 'Runtime vs Ratings', 'Runtime', 'Mean Vote Average')"
   ]
  },
  {
   "cell_type": "markdown",
   "id": "3bf15936",
   "metadata": {},
   "source": [
    "Very long movies get the best ratings, followed by Long, Short and Medium in that order."
   ]
  },
  {
   "cell_type": "markdown",
   "id": "09d99104",
   "metadata": {},
   "source": [
    "### Question 6: Is there a correlation between rating(vote_average) and revenue generated?"
   ]
  },
  {
   "cell_type": "code",
   "execution_count": 22,
   "id": "8cb5a85c",
   "metadata": {},
   "outputs": [
    {
     "data": {
      "image/png": "[encoded data removed]",
      "text/plain": [
       "<Figure size 432x288 with 1 Axes>"
      ]
     },
     "metadata": {
      "needs_background": "light"
     },
     "output_type": "display_data"
    }
   ],
   "source": [
    "# we plot vote_average and revenue_adj on a scatter plot to observe trends and correlation\n",
    "df.plot(x='vote_average', y='revenue_adj', kind='scatter');"
   ]
  },
  {
   "cell_type": "markdown",
   "id": "02ce705e",
   "metadata": {},
   "source": [
    "There is no linear relationship observed, but it can be seen that low rated movies do not generate much revenue compared to movies with higher ratings."
   ]
  },
  {
   "cell_type": "markdown",
   "id": "fd1e9158",
   "metadata": {},
   "source": [
    "### Question 7: Is there a correlation between popularity and revenue generated?"
   ]
  },
  {
   "cell_type": "code",
   "execution_count": 23,
   "id": "86c03073",
   "metadata": {},
   "outputs": [
    {
     "data": {
      "image/png": "[encoded data removed]",
      "text/plain": [
       "<Figure size 432x288 with 1 Axes>"
      ]
     },
     "metadata": {
      "needs_background": "light"
     },
     "output_type": "display_data"
    }
   ],
   "source": [
    "# we can plot popularity vs revenue_adj on a scatter plot to observe trends\n",
    "df.plot(x='popularity', y='revenue_adj', kind='scatter');"
   ]
  },
  {
   "cell_type": "markdown",
   "id": "66a0b06c",
   "metadata": {},
   "source": [
    "No conclusions can be drawn from this visualization"
   ]
  },
  {
   "cell_type": "markdown",
   "id": "fab085a0",
   "metadata": {},
   "source": [
    "### Question 8: Does the number of production companies tend to increase popularity and budget?"
   ]
  },
  {
   "cell_type": "code",
   "execution_count": 24,
   "id": "fb690dee",
   "metadata": {},
   "outputs": [
    {
     "data": {
      "text/html": [
       "<div>\n",
       "<style scoped>\n",
       "    .dataframe tbody tr th:only-of-type {\n",
       "        vertical-align: middle;\n",
       "    }\n",
       "\n",
       "    .dataframe tbody tr th {\n",
       "        vertical-align: top;\n",
       "    }\n",
       "\n",
       "    .dataframe thead th {\n",
       "        text-align: right;\n",
       "    }\n",
       "</style>\n",
       "<table border=\"1\" class=\"dataframe\">\n",
       "  <thead>\n",
       "    <tr style=\"text-align: right;\">\n",
       "      <th></th>\n",
       "      <th>popularity</th>\n",
       "      <th>budget</th>\n",
       "      <th>revenue</th>\n",
       "      <th>runtime</th>\n",
       "      <th>vote_count</th>\n",
       "      <th>vote_average</th>\n",
       "      <th>release_year</th>\n",
       "      <th>budget_adj</th>\n",
       "      <th>revenue_adj</th>\n",
       "    </tr>\n",
       "    <tr>\n",
       "      <th>prod_count</th>\n",
       "      <th></th>\n",
       "      <th></th>\n",
       "      <th></th>\n",
       "      <th></th>\n",
       "      <th></th>\n",
       "      <th></th>\n",
       "      <th></th>\n",
       "      <th></th>\n",
       "      <th></th>\n",
       "    </tr>\n",
       "  </thead>\n",
       "  <tbody>\n",
       "    <tr>\n",
       "      <th>1</th>\n",
       "      <td>0.460775</td>\n",
       "      <td>7.934482e+06</td>\n",
       "      <td>2.119670e+07</td>\n",
       "      <td>98.207860</td>\n",
       "      <td>115.133624</td>\n",
       "      <td>5.932082</td>\n",
       "      <td>1998.413974</td>\n",
       "      <td>1.070750e+07</td>\n",
       "      <td>3.245759e+07</td>\n",
       "    </tr>\n",
       "    <tr>\n",
       "      <th>2</th>\n",
       "      <td>0.663624</td>\n",
       "      <td>1.421515e+07</td>\n",
       "      <td>4.301702e+07</td>\n",
       "      <td>102.989531</td>\n",
       "      <td>212.001163</td>\n",
       "      <td>5.969872</td>\n",
       "      <td>1998.782474</td>\n",
       "      <td>1.833696e+07</td>\n",
       "      <td>6.249810e+07</td>\n",
       "    </tr>\n",
       "    <tr>\n",
       "      <th>3</th>\n",
       "      <td>0.783736</td>\n",
       "      <td>1.828453e+07</td>\n",
       "      <td>5.450945e+07</td>\n",
       "      <td>104.615428</td>\n",
       "      <td>278.872377</td>\n",
       "      <td>5.961202</td>\n",
       "      <td>2002.401021</td>\n",
       "      <td>2.189869e+07</td>\n",
       "      <td>6.827763e+07</td>\n",
       "    </tr>\n",
       "    <tr>\n",
       "      <th>4</th>\n",
       "      <td>0.941038</td>\n",
       "      <td>2.672765e+07</td>\n",
       "      <td>6.944778e+07</td>\n",
       "      <td>107.262136</td>\n",
       "      <td>384.525351</td>\n",
       "      <td>5.998813</td>\n",
       "      <td>2005.226537</td>\n",
       "      <td>2.973946e+07</td>\n",
       "      <td>7.798716e+07</td>\n",
       "    </tr>\n",
       "    <tr>\n",
       "      <th>5</th>\n",
       "      <td>1.111944</td>\n",
       "      <td>3.304067e+07</td>\n",
       "      <td>7.816039e+07</td>\n",
       "      <td>108.990231</td>\n",
       "      <td>488.486679</td>\n",
       "      <td>6.054263</td>\n",
       "      <td>2007.424512</td>\n",
       "      <td>3.509187e+07</td>\n",
       "      <td>8.187568e+07</td>\n",
       "    </tr>\n",
       "  </tbody>\n",
       "</table>\n",
       "</div>"
      ],
      "text/plain": [
       "            popularity        budget       revenue     runtime  vote_count  \\\n",
       "prod_count                                                                   \n",
       "1             0.460775  7.934482e+06  2.119670e+07   98.207860  115.133624   \n",
       "2             0.663624  1.421515e+07  4.301702e+07  102.989531  212.001163   \n",
       "3             0.783736  1.828453e+07  5.450945e+07  104.615428  278.872377   \n",
       "4             0.941038  2.672765e+07  6.944778e+07  107.262136  384.525351   \n",
       "5             1.111944  3.304067e+07  7.816039e+07  108.990231  488.486679   \n",
       "\n",
       "            vote_average  release_year    budget_adj   revenue_adj  \n",
       "prod_count                                                          \n",
       "1               5.932082   1998.413974  1.070750e+07  3.245759e+07  \n",
       "2               5.969872   1998.782474  1.833696e+07  6.249810e+07  \n",
       "3               5.961202   2002.401021  2.189869e+07  6.827763e+07  \n",
       "4               5.998813   2005.226537  2.973946e+07  7.798716e+07  \n",
       "5               6.054263   2007.424512  3.509187e+07  8.187568e+07  "
      ]
     },
     "execution_count": 24,
     "metadata": {},
     "output_type": "execute_result"
    }
   ],
   "source": [
    "df6 = df.copy()\n",
    "# first we drop rows without production companies, then create a new column that is the number of production companies\n",
    "df6.dropna(subset=['production_companies'], inplace=True)\n",
    "df6['prod_count'] = df6['production_companies'].apply(lambda x: len(x))\n",
    "# we then group by this count\n",
    "prod = df6.groupby('prod_count').mean()\n",
    "prod"
   ]
  },
  {
   "cell_type": "code",
   "execution_count": 25,
   "id": "edd6b271",
   "metadata": {},
   "outputs": [
    {
     "data": {
      "image/png": "[encoded data removed]",
      "text/plain": [
       "<Figure size 720x360 with 1 Axes>"
      ]
     },
     "metadata": {
      "needs_background": "light"
     },
     "output_type": "display_data"
    }
   ],
   "source": [
    "# we then plot bar chart to visualize number of production companies vs popularity\n",
    "bar_plotter(np.arange(5), list(prod.popularity), prod.index, 'gray', 'Number of Production Companies vs Popularity', \n",
    "            'Number of Production companies', 'Mean Popularity')"
   ]
  },
  {
   "cell_type": "code",
   "execution_count": 26,
   "id": "1741bafd",
   "metadata": {},
   "outputs": [
    {
     "data": {
      "image/png": "[encoded data removed]",
      "text/plain": [
       "<Figure size 720x360 with 1 Axes>"
      ]
     },
     "metadata": {
      "needs_background": "light"
     },
     "output_type": "display_data"
    }
   ],
   "source": [
    "# we then do the same for production companies vs budget_adj\n",
    "bar_plotter(np.arange(5), list(prod.budget_adj), prod.index, 'black', 'Number of Production Companies vs Budget', \n",
    "            'Number of Production companies', 'Mean Budget')"
   ]
  },
  {
   "cell_type": "markdown",
   "id": "82f12172",
   "metadata": {},
   "source": [
    "A trend can be observed in both plots. A higher number of production companies correlates with higher popularity and budget."
   ]
  },
  {
   "cell_type": "markdown",
   "id": "e1a0a3d5",
   "metadata": {},
   "source": [
    "<a id='conclusions'></a>\n",
    "## Conclusions"
   ]
  },
  {
   "cell_type": "markdown",
   "id": "94475fc6",
   "metadata": {},
   "source": [
    "In this project, we have discovered the following: \n",
    "\n",
    "<li> Adventure movies cost more than Action movies on average.\n",
    "<li> Having a website or a homepage significantly helps to gain more popularity for a movie.\n",
    "<li> The year 1960 had the best movies and 1960-1969 was the best decade for movies according to average voter ratings.\n",
    "<li> Christopher Nolan is the voters' best director.\n",
    "<li> Movies with longer runtime tend to get better voter ratings\n",
    "<li> Better voter averages strongly result to more revenue.\n",
    "<li> The more the production companies, the greater the budget and movie popularity tends to be ."
   ]
  },
  {
   "cell_type": "markdown",
   "id": "ad62a0b9",
   "metadata": {},
   "source": [
    "Some of the limitations of the project include:\n",
    "<li> Zero values in columns like 'revenue_adj' and 'runtime' were present in many rows. This may be an error and may affect results.\n",
    "<li> Movies having multiple genres will lead to complicated calculation of data for each movie genre."
   ]
  }
 ],
 "metadata": {
  "kernelspec": {
   "display_name": "Python 3 (ipykernel)",
   "language": "python",
   "name": "python3"
  },
  "language_info": {
   "codemirror_mode": {
    "name": "ipython",
    "version": 3
   },
   "file_extension": ".py",
   "mimetype": "text/x-python",
   "name": "python",
   "nbconvert_exporter": "python",
   "pygments_lexer": "ipython3",
   "version": "3.10.4"
  }
 },
 "nbformat": 4,
 "nbformat_minor": 5
}
